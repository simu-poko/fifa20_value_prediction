{
 "cells": [
  {
   "cell_type": "code",
   "execution_count": 1,
   "metadata": {},
   "outputs": [],
   "source": [
    "import pandas as pd\n",
    "import numpy as np\n",
    "import matplotlib.pyplot as plt\n",
    "import seaborn as sns\n",
    "from sklearn.model_selection import train_test_split, GridSearchCV\n",
    "from sklearn.ensemble import RandomForestRegressor\n",
    "from sklearn.metrics import accuracy_score\n",
    "%matplotlib inline\n",
    "sns.set_palette(\"Pastel2\")"
   ]
  },
  {
   "cell_type": "markdown",
   "metadata": {},
   "source": [
    "## 1. 데이터 로딩 / データのロード"
   ]
  },
  {
   "cell_type": "markdown",
   "metadata": {},
   "source": [
    "- Data can be obtained from:\n",
    "- https://www.kaggle.com/stefanoleone992/fifa-20-complete-player-dataset"
   ]
  },
  {
   "cell_type": "code",
   "execution_count": 2,
   "metadata": {},
   "outputs": [],
   "source": [
    "df = pd.read_csv(\"players_20.csv\")"
   ]
  },
  {
   "cell_type": "markdown",
   "metadata": {},
   "source": [
    "## 2. 데이터 전처리 / データの前処理"
   ]
  },
  {
   "cell_type": "markdown",
   "metadata": {},
   "source": [
    "### Selecting columns"
   ]
  },
  {
   "cell_type": "code",
   "execution_count": 3,
   "metadata": {},
   "outputs": [],
   "source": [
    "COLUMNS = [\"value_eur\",  # target variable\n",
    "           \"sofifa_id\", \"short_name\", \"nationality\", \"club\",  # metadata\n",
    "           \"overall\", \"potential\", \"international_reputation\",  # evaluation\n",
    "           \"wage_eur\", \"contract_valid_until\",  # contract info.\n",
    "           \"player_positions\",  # positions\n",
    "           \"preferred_foot\", \"weak_foot\", \"age\", \"height_cm\", \"weight_kg\",  # physical info.\n",
    "           \"attacking_crossing\", \"attacking_finishing\", \"attacking_heading_accuracy\",\n",
    "           \"attacking_short_passing\", \"attacking_volleys\",  # attacking stats\n",
    "           \"skill_dribbling\", \"skill_curve\", \"skill_fk_accuracy\", \"skill_long_passing\", \"skill_ball_control\",  # skill stats\n",
    "           \"movement_acceleration\", \"movement_sprint_speed\", \"movement_agility\",\n",
    "           \"movement_reactions\", \"movement_balance\",  # movement stats\n",
    "           \"power_shot_power\", \"power_jumping\", \"power_stamina\", \"power_strength\", \"power_long_shots\",  # power stats\n",
    "           \"mentality_aggression\", \"mentality_interceptions\", \"mentality_positioning\",\n",
    "           \"mentality_vision\", \"mentality_penalties\",\"mentality_composure\",  # mental stats\n",
    "           \"defending_marking\", \"defending_standing_tackle\", \"defending_sliding_tackle\"]  # defending stats"
   ]
  },
  {
   "cell_type": "code",
   "execution_count": 4,
   "metadata": {},
   "outputs": [],
   "source": [
    "df = df.loc[:, COLUMNS]"
   ]
  },
  {
   "cell_type": "markdown",
   "metadata": {},
   "source": [
    "### Missing values"
   ]
  },
  {
   "cell_type": "markdown",
   "metadata": {},
   "source": [
    "- Drop data because the number of missing values is small."
   ]
  },
  {
   "cell_type": "code",
   "execution_count": 5,
   "metadata": {},
   "outputs": [
    {
     "name": "stdout",
     "output_type": "stream",
     "text": [
      "contract_valid_until 240\n"
     ]
    }
   ],
   "source": [
    "for col, value in df.isnull().sum().iteritems():\n",
    "    if value > 0:\n",
    "        print(col, value)"
   ]
  },
  {
   "cell_type": "code",
   "execution_count": 6,
   "metadata": {},
   "outputs": [],
   "source": [
    "df = df.dropna(how=\"any\")"
   ]
  },
  {
   "cell_type": "markdown",
   "metadata": {},
   "source": [
    "### Contract"
   ]
  },
  {
   "cell_type": "markdown",
   "metadata": {},
   "source": [
    "- Instead of using the \"contract_valid_until\", calculate and use the remaining contract period."
   ]
  },
  {
   "cell_type": "code",
   "execution_count": 7,
   "metadata": {},
   "outputs": [],
   "source": [
    "df[\"contract_duration\"] = df[\"contract_valid_until\"] - 2020\n",
    "df[\"contract_duration\"] = df[\"contract_duration\"].astype(\"int64\")\n",
    "df = df.drop(\"contract_valid_until\", axis=1)"
   ]
  },
  {
   "cell_type": "markdown",
   "metadata": {},
   "source": [
    "### Preferred foot"
   ]
  },
  {
   "cell_type": "code",
   "execution_count": 8,
   "metadata": {},
   "outputs": [],
   "source": [
    "df.loc[:, \"preferred_foot\"] = df[\"preferred_foot\"].apply(lambda x: 1 if x == \"Right\" else 0).values"
   ]
  },
  {
   "cell_type": "markdown",
   "metadata": {},
   "source": [
    "### Positions"
   ]
  },
  {
   "cell_type": "markdown",
   "metadata": {},
   "source": [
    "- GK is excluded because it uses different stats from other positions."
   ]
  },
  {
   "cell_type": "code",
   "execution_count": 9,
   "metadata": {},
   "outputs": [],
   "source": [
    "df = df.loc[df[\"player_positions\"] != \"GK\", :]"
   ]
  },
  {
   "cell_type": "markdown",
   "metadata": {},
   "source": [
    "- Convert possible positions to 1 and otherwise to 0."
   ]
  },
  {
   "cell_type": "code",
   "execution_count": 10,
   "metadata": {},
   "outputs": [],
   "source": [
    "df_positions = pd.concat([df[[\"sofifa_id\"]], df[\"player_positions\"].str.split(\", \", expand=True)], axis=1)\n",
    "df_positions.columns = [\"sofifa_id\", \"position_1\", \"position_2\", \"position_3\"]"
   ]
  },
  {
   "cell_type": "code",
   "execution_count": 11,
   "metadata": {},
   "outputs": [],
   "source": [
    "POSITIONS = ['ST', 'CF', 'LW', 'LM', 'RW', 'RM', 'CAM', 'CM', 'CDM', 'LB', 'LWB', 'CB', 'RB', 'RWB']\n",
    "for pos in POSITIONS:\n",
    "    df_positions.loc[:, pos] = df_positions.apply(lambda x: 1 if (x[1] == pos) or (x[2] == pos) or (x[3] == pos) else 0, axis=1).values\n",
    "df_positions = df_positions.drop([\"position_1\", \"position_2\", \"position_3\"], axis=1)"
   ]
  },
  {
   "cell_type": "code",
   "execution_count": 12,
   "metadata": {},
   "outputs": [
    {
     "data": {
      "text/html": [
       "<div>\n",
       "<style scoped>\n",
       "    .dataframe tbody tr th:only-of-type {\n",
       "        vertical-align: middle;\n",
       "    }\n",
       "\n",
       "    .dataframe tbody tr th {\n",
       "        vertical-align: top;\n",
       "    }\n",
       "\n",
       "    .dataframe thead th {\n",
       "        text-align: right;\n",
       "    }\n",
       "</style>\n",
       "<table border=\"1\" class=\"dataframe\">\n",
       "  <thead>\n",
       "    <tr style=\"text-align: right;\">\n",
       "      <th></th>\n",
       "      <th>value_eur</th>\n",
       "      <th>sofifa_id</th>\n",
       "      <th>short_name</th>\n",
       "      <th>nationality</th>\n",
       "      <th>club</th>\n",
       "      <th>overall</th>\n",
       "      <th>potential</th>\n",
       "      <th>international_reputation</th>\n",
       "      <th>wage_eur</th>\n",
       "      <th>preferred_foot</th>\n",
       "      <th>...</th>\n",
       "      <th>RW</th>\n",
       "      <th>RM</th>\n",
       "      <th>CAM</th>\n",
       "      <th>CM</th>\n",
       "      <th>CDM</th>\n",
       "      <th>LB</th>\n",
       "      <th>LWB</th>\n",
       "      <th>CB</th>\n",
       "      <th>RB</th>\n",
       "      <th>RWB</th>\n",
       "    </tr>\n",
       "  </thead>\n",
       "  <tbody>\n",
       "    <tr>\n",
       "      <th>0</th>\n",
       "      <td>95500000</td>\n",
       "      <td>158023</td>\n",
       "      <td>L. Messi</td>\n",
       "      <td>Argentina</td>\n",
       "      <td>FC Barcelona</td>\n",
       "      <td>94</td>\n",
       "      <td>94</td>\n",
       "      <td>5</td>\n",
       "      <td>565000</td>\n",
       "      <td>0</td>\n",
       "      <td>...</td>\n",
       "      <td>1</td>\n",
       "      <td>0</td>\n",
       "      <td>0</td>\n",
       "      <td>0</td>\n",
       "      <td>0</td>\n",
       "      <td>0</td>\n",
       "      <td>0</td>\n",
       "      <td>0</td>\n",
       "      <td>0</td>\n",
       "      <td>0</td>\n",
       "    </tr>\n",
       "    <tr>\n",
       "      <th>1</th>\n",
       "      <td>58500000</td>\n",
       "      <td>20801</td>\n",
       "      <td>Cristiano Ronaldo</td>\n",
       "      <td>Portugal</td>\n",
       "      <td>Juventus</td>\n",
       "      <td>93</td>\n",
       "      <td>93</td>\n",
       "      <td>5</td>\n",
       "      <td>405000</td>\n",
       "      <td>1</td>\n",
       "      <td>...</td>\n",
       "      <td>0</td>\n",
       "      <td>0</td>\n",
       "      <td>0</td>\n",
       "      <td>0</td>\n",
       "      <td>0</td>\n",
       "      <td>0</td>\n",
       "      <td>0</td>\n",
       "      <td>0</td>\n",
       "      <td>0</td>\n",
       "      <td>0</td>\n",
       "    </tr>\n",
       "    <tr>\n",
       "      <th>2</th>\n",
       "      <td>105500000</td>\n",
       "      <td>190871</td>\n",
       "      <td>Neymar Jr</td>\n",
       "      <td>Brazil</td>\n",
       "      <td>Paris Saint-Germain</td>\n",
       "      <td>92</td>\n",
       "      <td>92</td>\n",
       "      <td>5</td>\n",
       "      <td>290000</td>\n",
       "      <td>1</td>\n",
       "      <td>...</td>\n",
       "      <td>0</td>\n",
       "      <td>0</td>\n",
       "      <td>1</td>\n",
       "      <td>0</td>\n",
       "      <td>0</td>\n",
       "      <td>0</td>\n",
       "      <td>0</td>\n",
       "      <td>0</td>\n",
       "      <td>0</td>\n",
       "      <td>0</td>\n",
       "    </tr>\n",
       "    <tr>\n",
       "      <th>3</th>\n",
       "      <td>90000000</td>\n",
       "      <td>183277</td>\n",
       "      <td>E. Hazard</td>\n",
       "      <td>Belgium</td>\n",
       "      <td>Real Madrid</td>\n",
       "      <td>91</td>\n",
       "      <td>91</td>\n",
       "      <td>4</td>\n",
       "      <td>470000</td>\n",
       "      <td>1</td>\n",
       "      <td>...</td>\n",
       "      <td>0</td>\n",
       "      <td>0</td>\n",
       "      <td>0</td>\n",
       "      <td>0</td>\n",
       "      <td>0</td>\n",
       "      <td>0</td>\n",
       "      <td>0</td>\n",
       "      <td>0</td>\n",
       "      <td>0</td>\n",
       "      <td>0</td>\n",
       "    </tr>\n",
       "    <tr>\n",
       "      <th>4</th>\n",
       "      <td>90000000</td>\n",
       "      <td>192985</td>\n",
       "      <td>K. De Bruyne</td>\n",
       "      <td>Belgium</td>\n",
       "      <td>Manchester City</td>\n",
       "      <td>91</td>\n",
       "      <td>91</td>\n",
       "      <td>4</td>\n",
       "      <td>370000</td>\n",
       "      <td>1</td>\n",
       "      <td>...</td>\n",
       "      <td>0</td>\n",
       "      <td>0</td>\n",
       "      <td>1</td>\n",
       "      <td>1</td>\n",
       "      <td>0</td>\n",
       "      <td>0</td>\n",
       "      <td>0</td>\n",
       "      <td>0</td>\n",
       "      <td>0</td>\n",
       "      <td>0</td>\n",
       "    </tr>\n",
       "  </tbody>\n",
       "</table>\n",
       "<p>5 rows × 58 columns</p>\n",
       "</div>"
      ],
      "text/plain": [
       "   value_eur  sofifa_id         short_name nationality                 club  \\\n",
       "0   95500000     158023           L. Messi   Argentina         FC Barcelona   \n",
       "1   58500000      20801  Cristiano Ronaldo    Portugal             Juventus   \n",
       "2  105500000     190871          Neymar Jr      Brazil  Paris Saint-Germain   \n",
       "3   90000000     183277          E. Hazard     Belgium          Real Madrid   \n",
       "4   90000000     192985       K. De Bruyne     Belgium      Manchester City   \n",
       "\n",
       "   overall  potential  international_reputation  wage_eur  preferred_foot  \\\n",
       "0       94         94                         5    565000               0   \n",
       "1       93         93                         5    405000               1   \n",
       "2       92         92                         5    290000               1   \n",
       "3       91         91                         4    470000               1   \n",
       "4       91         91                         4    370000               1   \n",
       "\n",
       "   ...  RW  RM  CAM  CM  CDM  LB  LWB  CB  RB  RWB  \n",
       "0  ...   1   0    0   0    0   0    0   0   0    0  \n",
       "1  ...   0   0    0   0    0   0    0   0   0    0  \n",
       "2  ...   0   0    1   0    0   0    0   0   0    0  \n",
       "3  ...   0   0    0   0    0   0    0   0   0    0  \n",
       "4  ...   0   0    1   1    0   0    0   0   0    0  \n",
       "\n",
       "[5 rows x 58 columns]"
      ]
     },
     "execution_count": 12,
     "metadata": {},
     "output_type": "execute_result"
    }
   ],
   "source": [
    "df = pd.merge(df.drop(\"player_positions\", axis=1), df_positions, on=\"sofifa_id\")\n",
    "df.head()"
   ]
  },
  {
   "cell_type": "markdown",
   "metadata": {},
   "source": [
    "## 3. 탐색적 자료 분석 / 探索的データ解析"
   ]
  },
  {
   "cell_type": "markdown",
   "metadata": {},
   "source": [
    "### Value"
   ]
  },
  {
   "cell_type": "markdown",
   "metadata": {},
   "source": [
    "- Mbappé is young but the third most valuable player."
   ]
  },
  {
   "cell_type": "code",
   "execution_count": 13,
   "metadata": {},
   "outputs": [
    {
     "data": {
      "text/html": [
       "<div>\n",
       "<style scoped>\n",
       "    .dataframe tbody tr th:only-of-type {\n",
       "        vertical-align: middle;\n",
       "    }\n",
       "\n",
       "    .dataframe tbody tr th {\n",
       "        vertical-align: top;\n",
       "    }\n",
       "\n",
       "    .dataframe thead th {\n",
       "        text-align: right;\n",
       "    }\n",
       "</style>\n",
       "<table border=\"1\" class=\"dataframe\">\n",
       "  <thead>\n",
       "    <tr style=\"text-align: right;\">\n",
       "      <th></th>\n",
       "      <th>value_eur</th>\n",
       "      <th>short_name</th>\n",
       "      <th>nationality</th>\n",
       "      <th>club</th>\n",
       "      <th>age</th>\n",
       "    </tr>\n",
       "  </thead>\n",
       "  <tbody>\n",
       "    <tr>\n",
       "      <th>2</th>\n",
       "      <td>105500000</td>\n",
       "      <td>Neymar Jr</td>\n",
       "      <td>Brazil</td>\n",
       "      <td>Paris Saint-Germain</td>\n",
       "      <td>27</td>\n",
       "    </tr>\n",
       "    <tr>\n",
       "      <th>0</th>\n",
       "      <td>95500000</td>\n",
       "      <td>L. Messi</td>\n",
       "      <td>Argentina</td>\n",
       "      <td>FC Barcelona</td>\n",
       "      <td>32</td>\n",
       "    </tr>\n",
       "    <tr>\n",
       "      <th>8</th>\n",
       "      <td>93500000</td>\n",
       "      <td>K. Mbappé</td>\n",
       "      <td>France</td>\n",
       "      <td>Paris Saint-Germain</td>\n",
       "      <td>20</td>\n",
       "    </tr>\n",
       "    <tr>\n",
       "      <th>3</th>\n",
       "      <td>90000000</td>\n",
       "      <td>E. Hazard</td>\n",
       "      <td>Belgium</td>\n",
       "      <td>Real Madrid</td>\n",
       "      <td>28</td>\n",
       "    </tr>\n",
       "    <tr>\n",
       "      <th>4</th>\n",
       "      <td>90000000</td>\n",
       "      <td>K. De Bruyne</td>\n",
       "      <td>Belgium</td>\n",
       "      <td>Manchester City</td>\n",
       "      <td>28</td>\n",
       "    </tr>\n",
       "  </tbody>\n",
       "</table>\n",
       "</div>"
      ],
      "text/plain": [
       "   value_eur    short_name nationality                 club  age\n",
       "2  105500000     Neymar Jr      Brazil  Paris Saint-Germain   27\n",
       "0   95500000      L. Messi   Argentina         FC Barcelona   32\n",
       "8   93500000     K. Mbappé      France  Paris Saint-Germain   20\n",
       "3   90000000     E. Hazard     Belgium          Real Madrid   28\n",
       "4   90000000  K. De Bruyne     Belgium      Manchester City   28"
      ]
     },
     "execution_count": 13,
     "metadata": {},
     "output_type": "execute_result"
    }
   ],
   "source": [
    "df[[\"value_eur\", \"short_name\", \"nationality\", \"club\", \"age\"]].sort_values(by=\"value_eur\", ascending=False).head()"
   ]
  },
  {
   "cell_type": "markdown",
   "metadata": {},
   "source": [
    "### Nationality"
   ]
  },
  {
   "cell_type": "markdown",
   "metadata": {},
   "source": [
    "- There are the most players from England, but the overall ratings are not high."
   ]
  },
  {
   "cell_type": "code",
   "execution_count": 14,
   "metadata": {},
   "outputs": [
    {
     "data": {
      "image/png": "[encoded data removed]",
      "text/plain": [
       "<Figure size 1008x360 with 2 Axes>"
      ]
     },
     "metadata": {
      "needs_background": "light"
     },
     "output_type": "display_data"
    }
   ],
   "source": [
    "top10_country = df[\"nationality\"].value_counts()[:10].index\n",
    "top10_df = df.loc[df[\"nationality\"].isin(top10_country), [\"nationality\", \"overall\"]]\n",
    "\n",
    "fig, ax = plt.subplots(1, 2, figsize=(14, 5))\n",
    "sns.barplot(y=df[\"nationality\"].value_counts().index[:10], x=df[\"nationality\"].value_counts()[:10], ci=None, orient=\"h\", palette=\"YlGn_r\", ax=ax[0])\n",
    "ax[0].set_xlabel(\"# of Players\")\n",
    "\n",
    "sns.boxplot(x=top10_df[\"overall\"], y=top10_df[\"nationality\"], order=top10_country, ax=ax[1])\n",
    "ax[1].set_ylabel(\"\")\n",
    "plt.show()"
   ]
  },
  {
   "cell_type": "markdown",
   "metadata": {},
   "source": [
    "### Club"
   ]
  },
  {
   "cell_type": "markdown",
   "metadata": {},
   "source": [
    "- Real Madrid has the highest average wage, as well as the second highest average overall."
   ]
  },
  {
   "cell_type": "code",
   "execution_count": 15,
   "metadata": {},
   "outputs": [
    {
     "data": {
      "image/png": "[encoded data removed]",
      "text/plain": [
       "<Figure size 1008x360 with 2 Axes>"
      ]
     },
     "metadata": {
      "needs_background": "light"
     },
     "output_type": "display_data"
    }
   ],
   "source": [
    "club_df = df[[\"club\", \"overall\", \"wage_eur\"]].groupby(\"club\").mean().sort_values(by=\"overall\", ascending=False)\n",
    "\n",
    "fig, ax = plt.subplots(figsize=(14, 5))\n",
    "sns.barplot(x=club_df.index[:10], y=club_df[\"overall\"][:10], order=club_df.index[:10], ci=None, ax=ax, color=\"tan\")\n",
    "ax.set_ylabel(\"Average overall\")\n",
    "plt.xticks(rotation=45)\n",
    "\n",
    "ax2 = ax.twinx()\n",
    "sns.lineplot(x=club_df.index[:10], y=club_df[\"wage_eur\"][:10], ci=None, ax=ax2, color=\"k\", sort=False)\n",
    "plt.ylim([0, 170000])\n",
    "ax2.set_ylabel(\"Average wage\")\n",
    "plt.show()"
   ]
  },
  {
   "cell_type": "markdown",
   "metadata": {},
   "source": [
    "### Age"
   ]
  },
  {
   "cell_type": "markdown",
   "metadata": {},
   "source": [
    "- The distribution of wages does not seem to change much after the age of 25."
   ]
  },
  {
   "cell_type": "code",
   "execution_count": 16,
   "metadata": {},
   "outputs": [
    {
     "data": {
      "image/png": "[encoded data removed]",
      "text/plain": [
       "<Figure size 1008x360 with 2 Axes>"
      ]
     },
     "metadata": {
      "needs_background": "light"
     },
     "output_type": "display_data"
    }
   ],
   "source": [
    "age_bins = [0, 18, 21, 24, 27, 30, 33, 100]\n",
    "age_labels = [\"below 18\", \"19-21\", \"22-24\", \"25-27\", \"28-30\", \"31-33\", \"over 34\"]\n",
    "age_df = df.loc[:, [\"wage_eur\", \"age\"]]\n",
    "age_df.loc[:, \"age_group\"] = pd.cut(age_df[\"age\"], bins=age_bins, labels=age_labels).values\n",
    "\n",
    "fig, ax = plt.subplots(1, 2, figsize=(14, 5))\n",
    "sns.barplot(x=age_df[\"age_group\"].value_counts(), y=age_df[\"age_group\"].value_counts().index, order=age_labels, ci=None, palette=\"Wistia_r\", ax=ax[0])\n",
    "ax[0].set_xlabel(\"# of Players\")\n",
    "\n",
    "sns.boxplot(x=np.log10(age_df[\"wage_eur\"]), y=age_df[\"age_group\"], order=age_labels, ax=ax[1])\n",
    "ax[1].set_ylabel(\"\")\n",
    "plt.show()"
   ]
  },
  {
   "cell_type": "markdown",
   "metadata": {},
   "source": [
    "## Preferred foot"
   ]
  },
  {
   "cell_type": "code",
   "execution_count": 17,
   "metadata": {},
   "outputs": [
    {
     "data": {
      "image/png": "[encoded data removed]",
      "text/plain": [
       "<Figure size 432x288 with 1 Axes>"
      ]
     },
     "metadata": {},
     "output_type": "display_data"
    }
   ],
   "source": [
    "foot_count = df[\"preferred_foot\"].value_counts().sort_index()\n",
    "foot_count.index = [\"Left\", \"Right\"]\n",
    "\n",
    "fig = plt.figure()\n",
    "ax = fig.add_subplot(1, 1, 1)\n",
    "ax.pie(foot_count.values, labels=foot_count.index, autopct=\"%1.1f%%\")\n",
    "plt.show()"
   ]
  },
  {
   "cell_type": "markdown",
   "metadata": {},
   "source": [
    "### Height & Weight"
   ]
  },
  {
   "cell_type": "code",
   "execution_count": 18,
   "metadata": {},
   "outputs": [
    {
     "data": {
      "image/png": "[encoded data removed]",
      "text/plain": [
       "<Figure size 1008x360 with 2 Axes>"
      ]
     },
     "metadata": {
      "needs_background": "light"
     },
     "output_type": "display_data"
    }
   ],
   "source": [
    "fig, ax = plt.subplots(1, 2, figsize=(14, 5))\n",
    "sns.distplot(df[\"height_cm\"], ax=ax[0], color=\"dodgerblue\")\n",
    "sns.distplot(df[\"weight_kg\"], ax=ax[1], color=\"dodgerblue\")\n",
    "plt.show()"
   ]
  },
  {
   "cell_type": "markdown",
   "metadata": {},
   "source": [
    "### Positions"
   ]
  },
  {
   "cell_type": "code",
   "execution_count": 19,
   "metadata": {},
   "outputs": [],
   "source": [
    "values = []\n",
    "for pos in POSITIONS:\n",
    "    values.append((df[\"value_eur\"] * df[pos]).sum())\n",
    "\n",
    "position_df = pd.DataFrame(df.loc[:, POSITIONS].sum(), columns=[\"player_count\"])\n",
    "position_df[\"total_value\"] = values\n",
    "position_df[\"average_value\"] = position_df[\"total_value\"] / position_df[\"player_count\"]"
   ]
  },
  {
   "cell_type": "markdown",
   "metadata": {},
   "source": [
    "- As we know in common sense, the average value is expensive in the order of the attacker, midfielder, and defender.\n",
    "- Despite the small number of players in the CF position, the high average value is due to Lionel Messi."
   ]
  },
  {
   "cell_type": "code",
   "execution_count": 20,
   "metadata": {},
   "outputs": [
    {
     "data": {
      "image/png": "[encoded data removed]",
      "text/plain": [
       "<Figure size 1008x360 with 2 Axes>"
      ]
     },
     "metadata": {
      "needs_background": "light"
     },
     "output_type": "display_data"
    }
   ],
   "source": [
    "fig, ax = plt.subplots(figsize=(14, 5))\n",
    "sns.barplot(x=position_df.index, y=position_df[\"player_count\"], order=position_df.index, ci=None, ax=ax, color=\"mediumpurple\")\n",
    "ax.set_ylabel(\"# of Players\")\n",
    "\n",
    "ax2 = ax.twinx()\n",
    "sns.lineplot(x=position_df.index, y=position_df[\"average_value\"], ci=None, ax=ax2, color=\"k\", sort=False)\n",
    "ax2.set_ylabel(\"Average value\")\n",
    "plt.show()"
   ]
  },
  {
   "cell_type": "markdown",
   "metadata": {},
   "source": [
    "## 4. 회귀 분석  / 回帰分析"
   ]
  },
  {
   "cell_type": "markdown",
   "metadata": {},
   "source": [
    "### Predict the value of players"
   ]
  },
  {
   "cell_type": "markdown",
   "metadata": {},
   "source": [
    "#### Regression using only the stats"
   ]
  },
  {
   "cell_type": "code",
   "execution_count": 13,
   "metadata": {},
   "outputs": [],
   "source": [
    "X = df.loc[:, \"attacking_crossing\":\"defending_sliding_tackle\"]\n",
    "y = df[\"value_eur\"]\n",
    "X_train, X_test, y_train, y_test = train_test_split(X, y, random_state=0)"
   ]
  },
  {
   "cell_type": "code",
   "execution_count": 14,
   "metadata": {},
   "outputs": [
    {
     "data": {
      "text/plain": [
       "0.8793995994538304"
      ]
     },
     "execution_count": 14,
     "metadata": {},
     "output_type": "execute_result"
    }
   ],
   "source": [
    "# You can use the Grid Search.\n",
    "rf = RandomForestRegressor(n_estimators=200, random_state=0)\n",
    "rf.fit(X_train, y_train)\n",
    "rf.score(X_test, y_test)"
   ]
  },
  {
   "cell_type": "markdown",
   "metadata": {},
   "source": [
    "- The importance of the movement reactions was measured most."
   ]
  },
  {
   "cell_type": "code",
   "execution_count": 15,
   "metadata": {},
   "outputs": [
    {
     "name": "stdout",
     "output_type": "stream",
     "text": [
      "movement_reactions: 0.637009047259995\n",
      "skill_ball_control: 0.1327392251697303\n",
      "defending_standing_tackle: 0.03968391863081786\n",
      "movement_sprint_speed: 0.019243430007018034\n",
      "skill_dribbling: 0.013249941260549907\n"
     ]
    }
   ],
   "source": [
    "for i in np.argsort(rf.feature_importances_)[::-1][:5]:\n",
    "    print(\"{}: {}\".format(X.columns[i], rf.feature_importances_[i]))"
   ]
  },
  {
   "cell_type": "markdown",
   "metadata": {},
   "source": [
    "#### Regression adding the wage, positions, etc."
   ]
  },
  {
   "cell_type": "code",
   "execution_count": 16,
   "metadata": {},
   "outputs": [],
   "source": [
    "X = df.loc[:, \"international_reputation\":\"RWB\"]\n",
    "y = df[\"value_eur\"]\n",
    "X_train, X_test, y_train, y_test = train_test_split(X, y, random_state=0)"
   ]
  },
  {
   "cell_type": "code",
   "execution_count": 17,
   "metadata": {},
   "outputs": [
    {
     "data": {
      "text/plain": [
       "0.9063303872402684"
      ]
     },
     "execution_count": 17,
     "metadata": {},
     "output_type": "execute_result"
    }
   ],
   "source": [
    "rf = RandomForestRegressor(n_estimators=200, random_state=0)\n",
    "rf.fit(X_train, y_train)\n",
    "rf.score(X_test, y_test)"
   ]
  },
  {
   "cell_type": "markdown",
   "metadata": {},
   "source": [
    "- Since the wage reflects the current value of the player, it was measured most importantly."
   ]
  },
  {
   "cell_type": "code",
   "execution_count": 18,
   "metadata": {},
   "outputs": [
    {
     "name": "stdout",
     "output_type": "stream",
     "text": [
      "wage_eur: 0.6359561433258363\n",
      "movement_reactions: 0.13487045884569052\n",
      "skill_ball_control: 0.06470773100707615\n",
      "age: 0.03271935996876528\n",
      "defending_standing_tackle: 0.0118124060983985\n"
     ]
    }
   ],
   "source": [
    "for i in np.argsort(rf.feature_importances_)[::-1][:5]:\n",
    "    print(\"{}: {}\".format(X.columns[i], rf.feature_importances_[i]))"
   ]
  },
  {
   "cell_type": "code",
   "execution_count": 19,
   "metadata": {},
   "outputs": [
    {
     "data": {
      "text/plain": [
       "<matplotlib.axes._subplots.AxesSubplot at 0x2871fdbe438>"
      ]
     },
     "execution_count": 19,
     "metadata": {},
     "output_type": "execute_result"
    },
    {
     "data": {
      "image/png": "[encoded data removed]",
      "text/plain": [
       "<Figure size 432x288 with 1 Axes>"
      ]
     },
     "metadata": {
      "needs_background": "light"
     },
     "output_type": "display_data"
    }
   ],
   "source": [
    "predict_df = df.loc[:, [\"short_name\", \"nationality\", \"club\", \"age\", \"wage_eur\", \"value_eur\"]]\n",
    "predict_df[\"value_pred\"] = rf.predict(X)\n",
    "sns.scatterplot(x=\"value_pred\", y=\"value_eur\", data=predict_df, color=\"dodgerblue\")"
   ]
  },
  {
   "cell_type": "markdown",
   "metadata": {},
   "source": [
    "- Extract the players whose predicted value is significantly different from the actual value.\n",
    "- This is the case where the current wage is very low compared to the value due to age, etc."
   ]
  },
  {
   "cell_type": "code",
   "execution_count": 20,
   "metadata": {},
   "outputs": [
    {
     "data": {
      "text/html": [
       "<div>\n",
       "<style scoped>\n",
       "    .dataframe tbody tr th:only-of-type {\n",
       "        vertical-align: middle;\n",
       "    }\n",
       "\n",
       "    .dataframe tbody tr th {\n",
       "        vertical-align: top;\n",
       "    }\n",
       "\n",
       "    .dataframe thead th {\n",
       "        text-align: right;\n",
       "    }\n",
       "</style>\n",
       "<table border=\"1\" class=\"dataframe\">\n",
       "  <thead>\n",
       "    <tr style=\"text-align: right;\">\n",
       "      <th></th>\n",
       "      <th>short_name</th>\n",
       "      <th>nationality</th>\n",
       "      <th>club</th>\n",
       "      <th>age</th>\n",
       "      <th>wage_eur</th>\n",
       "      <th>value_eur</th>\n",
       "      <th>value_pred</th>\n",
       "    </tr>\n",
       "  </thead>\n",
       "  <tbody>\n",
       "    <tr>\n",
       "      <th>8</th>\n",
       "      <td>K. Mbappé</td>\n",
       "      <td>France</td>\n",
       "      <td>Paris Saint-Germain</td>\n",
       "      <td>20</td>\n",
       "      <td>155000</td>\n",
       "      <td>93500000</td>\n",
       "      <td>43810000.0</td>\n",
       "    </tr>\n",
       "    <tr>\n",
       "      <th>252</th>\n",
       "      <td>S. Kjær</td>\n",
       "      <td>Denmark</td>\n",
       "      <td>Sevilla FC</td>\n",
       "      <td>30</td>\n",
       "      <td>24000</td>\n",
       "      <td>18000000</td>\n",
       "      <td>8422500.0</td>\n",
       "    </tr>\n",
       "    <tr>\n",
       "      <th>332</th>\n",
       "      <td>B. Höwedes</td>\n",
       "      <td>Germany</td>\n",
       "      <td>Lokomotiv Moscow</td>\n",
       "      <td>31</td>\n",
       "      <td>1000</td>\n",
       "      <td>13000000</td>\n",
       "      <td>6065750.0</td>\n",
       "    </tr>\n",
       "    <tr>\n",
       "      <th>1414</th>\n",
       "      <td>N. Domínguez</td>\n",
       "      <td>Argentina</td>\n",
       "      <td>Vélez Sarsfield</td>\n",
       "      <td>21</td>\n",
       "      <td>11000</td>\n",
       "      <td>12000000</td>\n",
       "      <td>4916375.0</td>\n",
       "    </tr>\n",
       "    <tr>\n",
       "      <th>1869</th>\n",
       "      <td>J. David</td>\n",
       "      <td>Canada</td>\n",
       "      <td>KAA Gent</td>\n",
       "      <td>19</td>\n",
       "      <td>12000</td>\n",
       "      <td>10500000</td>\n",
       "      <td>5211000.0</td>\n",
       "    </tr>\n",
       "  </tbody>\n",
       "</table>\n",
       "</div>"
      ],
      "text/plain": [
       "        short_name nationality                 club  age  wage_eur  value_eur  \\\n",
       "8        K. Mbappé      France  Paris Saint-Germain   20    155000   93500000   \n",
       "252        S. Kjær     Denmark           Sevilla FC   30     24000   18000000   \n",
       "332     B. Höwedes     Germany     Lokomotiv Moscow   31      1000   13000000   \n",
       "1414  N. Domínguez   Argentina      Vélez Sarsfield   21     11000   12000000   \n",
       "1869      J. David      Canada             KAA Gent   19     12000   10500000   \n",
       "\n",
       "      value_pred  \n",
       "8     43810000.0  \n",
       "252    8422500.0  \n",
       "332    6065750.0  \n",
       "1414   4916375.0  \n",
       "1869   5211000.0  "
      ]
     },
     "execution_count": 20,
     "metadata": {},
     "output_type": "execute_result"
    }
   ],
   "source": [
    "predict_df.loc[predict_df[\"value_eur\"] >= predict_df[\"value_pred\"] * 2, :].sort_values(by=\"value_eur\", ascending=False).head()"
   ]
  },
  {
   "cell_type": "code",
   "execution_count": null,
   "metadata": {},
   "outputs": [],
   "source": []
  }
 ],
 "metadata": {
  "kernelspec": {
   "display_name": "Python 3",
   "language": "python",
   "name": "python3"
  },
  "language_info": {
   "codemirror_mode": {
    "name": "ipython",
    "version": 3
   },
   "file_extension": ".py",
   "mimetype": "text/x-python",
   "name": "python",
   "nbconvert_exporter": "python",
   "pygments_lexer": "ipython3",
   "version": "3.6.8"
  }
 },
 "nbformat": 4,
 "nbformat_minor": 2
}
